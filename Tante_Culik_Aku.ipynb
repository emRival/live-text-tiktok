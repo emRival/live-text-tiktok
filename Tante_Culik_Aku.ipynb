{
  "nbformat": 4,
  "nbformat_minor": 0,
  "metadata": {
    "colab": {
      "provenance": [],
      "authorship_tag": "ABX9TyN6q62YRESfyzqAALJiMvKt",
      "include_colab_link": true
    },
    "kernelspec": {
      "name": "python3",
      "display_name": "Python 3"
    },
    "language_info": {
      "name": "python"
    }
  },
  "cells": [
    {
      "cell_type": "markdown",
      "metadata": {
        "id": "view-in-github",
        "colab_type": "text"
      },
      "source": [
        "<a href=\"https://colab.research.google.com/github/emRival/live-text-tiktok/blob/main/Tante_Culik_Aku.ipynb\" target=\"_parent\"><img src=\"https://colab.research.google.com/assets/colab-badge.svg\" alt=\"Open In Colab\"/></a>"
      ]
    },
    {
      "cell_type": "code",
      "execution_count": null,
      "metadata": {
        "id": "sdD8v_K85fJD"
      },
      "outputs": [],
      "source": [
        "# STEP 1: Install dan import library\n",
        "!pip install gdown > /dev/null\n",
        "import gdown\n",
        "import time\n",
        "from threading import Thread, Lock\n",
        "import sys\n",
        "from IPython.display import Audio\n",
        "\n",
        "\n",
        "\n"
      ]
    },
    {
      "cell_type": "code",
      "source": [
        "# STEP 2: Unduh file dari Google Drive\n",
        "# File: https://drive.google.com/file/d/1zijS4WNfnGpAsGvAa0nD0V0OUM3dR1hZ/view\n",
        "gdown.download(\"https://drive.google.com/uc?id=1zijS4WNfnGpAsGvAa0nD0V0OUM3dR1hZ\", \"dj_tante.mp3\", quiet=True)\n"
      ],
      "metadata": {
        "colab": {
          "base_uri": "https://localhost:8080/",
          "height": 35
        },
        "id": "mAdWngOMqrl0",
        "outputId": "48829560-03f0-46b1-bd57-fa826ef079f5"
      },
      "execution_count": null,
      "outputs": [
        {
          "output_type": "execute_result",
          "data": {
            "text/plain": [
              "'dj_tante.mp3'"
            ],
            "application/vnd.google.colaboratory.intrinsic+json": {
              "type": "string"
            }
          },
          "metadata": {},
          "execution_count": 2
        }
      ]
    },
    {
      "cell_type": "code",
      "source": [
        "# STEP 3: Putar audionya\n",
        "display(Audio(\"dj_tante.mp3\", autoplay=True))\n",
        "\n",
        "# STEP 4: Tampilkan teks sinkron\n",
        "lock = Lock()\n",
        "\n",
        "def animate_text(text, delay=0.1):\n",
        "    with lock:\n",
        "        for char in text:\n",
        "            sys.stdout.write(char)\n",
        "            sys.stdout.flush()\n",
        "            time.sleep(delay)\n",
        "        print()\n",
        "\n",
        "def sing_lyric(lyric, delay, speed):\n",
        "    time.sleep(delay)\n",
        "    animate_text(lyric, speed)\n",
        "\n",
        "def sing_song():\n",
        "    lyrics = [\n",
        "        (\"\\nsudah terbiasa terjadi tante\", 0.10),\n",
        "        (\"teman datang ketika lagi butuh saja\", 0.08),\n",
        "        (\"coba kalo lagi susah\", 0.08),\n",
        "        (\"mereka semua menghilang...\", 0.09),\n",
        "        (\"Apakah spek standar seperti ini yang para pemirsa inginkan?\", 0.06),\n",
        "        (\"tante...\", 0.07),\n",
        "        (\"tante...\", 0.07),\n",
        "        (\"tante...\\n\", 0.07),\n",
        "    ]\n",
        "\n",
        "    delays = [3.3, 7.6, 11.9, 14.0, 16.9, 19.8, 24.0, 28.0]\n",
        "\n",
        "    threads = []\n",
        "    for i in range(len(lyrics)):\n",
        "        lyric, speed = lyrics[i]\n",
        "        t = Thread(target=sing_lyric, args=(lyric, delays[i], speed))\n",
        "        threads.append(t)\n",
        "        t.start()\n",
        "\n",
        "    for thread in threads:\n",
        "        thread.join()\n",
        "\n",
        "# STEP 5: Jalankan sinkronisasi teks\n",
        "sing_song()"
      ],
      "metadata": {
        "id": "x9fmlenKqtOE"
      },
      "execution_count": null,
      "outputs": []
    }
  ]
}